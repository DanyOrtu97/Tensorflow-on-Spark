{
 "cells": [
  {
   "cell_type": "code",
   "execution_count": 24,
   "metadata": {
    "collapsed": true
   },
   "outputs": [],
   "source": [
    "from mmdnn.conversion.examples.mxnet.imagenet_test import Batch"
   ]
  },
  {
   "cell_type": "code",
   "execution_count": null,
   "outputs": [],
   "source": [
    "y_pred = [[0.5000368],[0.5000373],\n",
    "[0.5000471],\n",
    "[0.50004],\n",
    "[0.50005],\n",
    "[0.50005245],\n",
    "[0.50005275],\n",
    "[0.5000449],\n",
    "[0.5000544],\n",
    "[0.50005734],\n",
    "[0.5000564],\n",
    "[0.5000378],\n",
    "[0.5000452],\n",
    "[0.5000574],\n",
    "[0.50004077],\n",
    "[0.50004494]]\n",
    "\n",
    "y_true = [[0.],[0.],[0.],[0.],[0.],[0.],[0.],[0.],[1.],[1.],[1.],[1.],[1.],[1.],[1.],[1.]]"
   ],
   "metadata": {
    "collapsed": false,
    "pycharm": {
     "name": "#%%\n"
    }
   }
  },
  {
   "cell_type": "code",
   "execution_count": 1,
   "outputs": [],
   "source": [
    "def get_model():\n",
    "    from tensorflow.keras.models import Sequential\n",
    "    from keras import initializers\n",
    "    from tensorflow.keras.layers import Dense, Conv2D, MaxPool2D, Dropout, Flatten, BatchNormalization\n",
    "    model = Sequential()\n",
    "\n",
    "    model.add(Conv2D(filters=32, kernel_size=(3, 3), input_shape=(320, 320, 1), activation='relu',kernel_initializer=initializers.RandomNormal(stddev=0.01),bias_initializer=initializers.Zeros()))\n",
    "    model.add(BatchNormalization())\n",
    "    model.add(Conv2D(filters=32, kernel_size=(3, 3), input_shape=(320, 320, 1), activation='relu',kernel_initializer=initializers.RandomNormal(stddev=0.01),bias_initializer=initializers.Zeros()))\n",
    "    model.add(BatchNormalization())\n",
    "    model.add(MaxPool2D(pool_size=(2, 2)))\n",
    "\n",
    "    model.add(Conv2D(filters=64, kernel_size=(3, 3), activation='relu',kernel_initializer=initializers.RandomNormal(stddev=0.01),bias_initializer=initializers.Zeros()))\n",
    "    model.add(BatchNormalization())\n",
    "    model.add(Conv2D(filters=64, kernel_size=(3, 3), activation='relu',kernel_initializer=initializers.RandomNormal(stddev=0.01),bias_initializer=initializers.Zeros()))\n",
    "    model.add(BatchNormalization())\n",
    "    model.add(MaxPool2D(pool_size=(2, 2)))\n",
    "\n",
    "    model.add(Conv2D(filters=128, kernel_size=(3, 3), activation='relu',kernel_initializer=initializers.RandomNormal(stddev=0.01),bias_initializer=initializers.Zeros()))\n",
    "    model.add(BatchNormalization())\n",
    "    model.add(Conv2D(filters=128, kernel_size=(3, 3), activation='relu',kernel_initializer=initializers.RandomNormal(stddev=0.01),bias_initializer=initializers.Zeros()))\n",
    "    model.add(BatchNormalization())\n",
    "    model.add(MaxPool2D(pool_size=(2, 2)))\n",
    "\n",
    "    model.add(Flatten())\n",
    "    model.add(Dense(128, activation='relu',kernel_initializer=initializers.RandomNormal(stddev=0.01),bias_initializer=initializers.Zeros()))\n",
    "    model.add(Dropout(0.2))\n",
    "\n",
    "    model.add(Dense(1, activation='sigmoid',kernel_initializer=initializers.RandomNormal(stddev=0.01),bias_initializer=initializers.Zeros()))\n",
    "    model.compile(loss='binary_crossentropy',\n",
    "                  optimizer='adam',\n",
    "                  metrics=['accuracy'])\n",
    "    return model"
   ],
   "metadata": {
    "collapsed": false,
    "pycharm": {
     "name": "#%%\n"
    }
   }
  },
  {
   "cell_type": "code",
   "execution_count": 7,
   "outputs": [],
   "source": [
    "import numpy as np\n",
    "import os\n",
    "def fullpath(path, files):\n",
    "    return  [(lambda x: path + x)(x) for x in files]\n",
    "val_dir = \"../chest_xray/chest_xray/val\"\n",
    "filesPneumo = fullpath(val_dir+'/PNEUMONIA/',os.listdir(os.path.join(val_dir, 'PNEUMONIA')))\n",
    "del filesPneumo[0]\n",
    "labelsPneumo = np.zeros(len(filesPneumo))\n",
    "filesNormal = fullpath(val_dir+'/NORMAL/',os.listdir(os.path.join(val_dir, 'NORMAL')))\n",
    "del filesNormal[0]\n",
    "labelsNormal = np.ones(len(filesNormal))\n",
    "fileData = filesPneumo + filesNormal\n",
    "fileLabels = np.concatenate((labelsPneumo,labelsNormal),axis=0).astype(np.float32)"
   ],
   "metadata": {
    "collapsed": false,
    "pycharm": {
     "name": "#%%\n"
    }
   }
  },
  {
   "cell_type": "code",
   "execution_count": 2,
   "outputs": [
    {
     "name": "stderr",
     "output_type": "stream",
     "text": [
      "Using TensorFlow backend.\n"
     ]
    }
   ],
   "source": [
    "\n",
    "model = get_model()\n"
   ],
   "metadata": {
    "collapsed": false,
    "pycharm": {
     "name": "#%%\n"
    }
   }
  },
  {
   "cell_type": "code",
   "execution_count": 8,
   "outputs": [],
   "source": [
    "from PIL import Image\n",
    "from mxnet import autograd, np , npx\n",
    "npx.set_np()\n",
    "x = Image.open(filesNormal[0])\n",
    "x = x.resize([320,320])\n",
    "x = np.array(x).reshape(320*320*1)"
   ],
   "metadata": {
    "collapsed": false,
    "pycharm": {
     "name": "#%%\n"
    }
   }
  },
  {
   "cell_type": "code",
   "execution_count": 18,
   "outputs": [],
   "source": [
    "x2 = Image.open(filesNormal[1])\n",
    "x2 = x2.resize([320,320])\n",
    "x2 = np.array(x2).reshape(320*320*1)"
   ],
   "metadata": {
    "collapsed": false,
    "pycharm": {
     "name": "#%%\n"
    }
   }
  },
  {
   "cell_type": "code",
   "execution_count": 22,
   "outputs": [],
   "source": [
    "x = x.reshape(1,320,320,1)\n",
    "#x = x.reshape(-1,1)"
   ],
   "metadata": {
    "collapsed": false,
    "pycharm": {
     "name": "#%%\n"
    }
   }
  },
  {
   "cell_type": "code",
   "execution_count": 23,
   "outputs": [],
   "source": [],
   "metadata": {
    "collapsed": false,
    "pycharm": {
     "name": "#%%\n"
    }
   }
  },
  {
   "cell_type": "code",
   "execution_count": 9,
   "outputs": [
    {
     "data": {
      "text/plain": "tensorflow.python.keras.layers.core.Dense"
     },
     "execution_count": 9,
     "metadata": {},
     "output_type": "execute_result"
    }
   ],
   "source": [
    "type(last_layer)"
   ],
   "metadata": {
    "collapsed": false,
    "pycharm": {
     "name": "#%%\n"
    }
   }
  },
  {
   "cell_type": "code",
   "execution_count": 3,
   "outputs": [
    {
     "data": {
      "text/plain": "{'name': 'conv2d_4',\n 'trainable': True,\n 'dtype': 'float32',\n 'filters': 128,\n 'kernel_size': (3, 3),\n 'strides': (1, 1),\n 'padding': 'valid',\n 'data_format': 'channels_last',\n 'dilation_rate': (1, 1),\n 'groups': 1,\n 'activation': 'relu',\n 'use_bias': True,\n 'kernel_initializer': {'class_name': 'RandomNormal',\n  'config': {'mean': 0.0, 'stddev': 0.01, 'seed': None}},\n 'bias_initializer': {'class_name': 'Zeros', 'config': {}},\n 'kernel_regularizer': None,\n 'bias_regularizer': None,\n 'activity_regularizer': None,\n 'kernel_constraint': None,\n 'bias_constraint': None}"
     },
     "execution_count": 3,
     "metadata": {},
     "output_type": "execute_result"
    }
   ],
   "source": [
    "last_layer.get_config()"
   ],
   "metadata": {
    "collapsed": false,
    "pycharm": {
     "name": "#%%\n"
    }
   }
  },
  {
   "cell_type": "code",
   "execution_count": 30,
   "outputs": [],
   "source": [
    "import mxnet as mx\n",
    "from mxnet.gluon import nn, Trainer, loss\n",
    "from mxnet import optimizer\n",
    "from mxnet import autograd, np, npx\n",
    "def convert_keras_to_mxnet(model):\n",
    "    npx.set_np()\n",
    "    def layer_conversion(layer):\n",
    "        t = str(type(layer)).split(\".\")\n",
    "        layer_type = t[-1].replace('\\'>',\"\")\n",
    "        config = layer.get_config()\n",
    "        if layer_type == \"Dense\":\n",
    "            return nn.Dense(units=config['units'], activation=config['activation'], use_bias=config['use_bias'], dtype=np.float32)\n",
    "        if layer_type == \"Conv2D\":\n",
    "            return nn.Conv2D(channels=config['filters'], kernel_size=config['kernel_size'],use_bias=config['use_bias'],activation=config['activation'], weight_initializer=mx.init.Normal(0.01), bias_initializer=mx.init.Zero())\n",
    "        if layer_type == \"MaxPooling2D\":\n",
    "            return nn.MaxPool2D(pool_size=config['pool_size'])\n",
    "        if layer_type == \"BatchNormalization\":\n",
    "            return nn.BatchNorm(momentum=config['momentum'], epsilon=config['epsilon'])\n",
    "        if layer_type==\"Dropout\":\n",
    "            return nn.Dropout(rate=config['rate'])\n",
    "        if layer_type==\"Flatten\":\n",
    "            return nn.Flatten()\n",
    "        return None\n",
    "    mxModel = nn.Sequential()\n",
    "    for layer in model.layers:\n",
    "        new_layer = layer_conversion(layer)\n",
    "        mxModel.add(new_layer)\n",
    "    return mxModel\n",
    "\n",
    "new_model = convert_keras_to_mxnet(model)"
   ],
   "metadata": {
    "collapsed": false,
    "pycharm": {
     "name": "#%%\n"
    }
   }
  },
  {
   "cell_type": "code",
   "execution_count": 21,
   "outputs": [
    {
     "data": {
      "text/plain": "19"
     },
     "execution_count": 21,
     "metadata": {},
     "output_type": "execute_result"
    }
   ],
   "source": [
    "len(model.layers)"
   ],
   "metadata": {
    "collapsed": false,
    "pycharm": {
     "name": "#%%\n"
    }
   }
  },
  {
   "cell_type": "code",
   "execution_count": 44,
   "outputs": [
    {
     "data": {
      "text/plain": "sequential15_ (\n  Parameter conv48_weight (shape=(32, -1, 3, 3), dtype=<class 'numpy.float32'>)\n  Parameter conv48_bias (shape=(32,), dtype=<class 'numpy.float32'>)\n  Parameter batchnorm48_gamma (shape=(-1,), dtype=<class 'numpy.float32'>)\n  Parameter batchnorm48_beta (shape=(-1,), dtype=<class 'numpy.float32'>)\n  Parameter batchnorm48_running_mean (shape=(-1,), dtype=<class 'numpy.float32'>)\n  Parameter batchnorm48_running_var (shape=(-1,), dtype=<class 'numpy.float32'>)\n  Parameter conv49_weight (shape=(32, -1, 3, 3), dtype=<class 'numpy.float32'>)\n  Parameter conv49_bias (shape=(32,), dtype=<class 'numpy.float32'>)\n  Parameter batchnorm49_gamma (shape=(-1,), dtype=<class 'numpy.float32'>)\n  Parameter batchnorm49_beta (shape=(-1,), dtype=<class 'numpy.float32'>)\n  Parameter batchnorm49_running_mean (shape=(-1,), dtype=<class 'numpy.float32'>)\n  Parameter batchnorm49_running_var (shape=(-1,), dtype=<class 'numpy.float32'>)\n  Parameter conv50_weight (shape=(64, -1, 3, 3), dtype=<class 'numpy.float32'>)\n  Parameter conv50_bias (shape=(64,), dtype=<class 'numpy.float32'>)\n  Parameter batchnorm50_gamma (shape=(-1,), dtype=<class 'numpy.float32'>)\n  Parameter batchnorm50_beta (shape=(-1,), dtype=<class 'numpy.float32'>)\n  Parameter batchnorm50_running_mean (shape=(-1,), dtype=<class 'numpy.float32'>)\n  Parameter batchnorm50_running_var (shape=(-1,), dtype=<class 'numpy.float32'>)\n  Parameter conv51_weight (shape=(64, -1, 3, 3), dtype=<class 'numpy.float32'>)\n  Parameter conv51_bias (shape=(64,), dtype=<class 'numpy.float32'>)\n  Parameter batchnorm51_gamma (shape=(-1,), dtype=<class 'numpy.float32'>)\n  Parameter batchnorm51_beta (shape=(-1,), dtype=<class 'numpy.float32'>)\n  Parameter batchnorm51_running_mean (shape=(-1,), dtype=<class 'numpy.float32'>)\n  Parameter batchnorm51_running_var (shape=(-1,), dtype=<class 'numpy.float32'>)\n  Parameter conv52_weight (shape=(128, -1, 3, 3), dtype=<class 'numpy.float32'>)\n  Parameter conv52_bias (shape=(128,), dtype=<class 'numpy.float32'>)\n  Parameter batchnorm52_gamma (shape=(-1,), dtype=<class 'numpy.float32'>)\n  Parameter batchnorm52_beta (shape=(-1,), dtype=<class 'numpy.float32'>)\n  Parameter batchnorm52_running_mean (shape=(-1,), dtype=<class 'numpy.float32'>)\n  Parameter batchnorm52_running_var (shape=(-1,), dtype=<class 'numpy.float32'>)\n  Parameter conv53_weight (shape=(128, -1, 3, 3), dtype=<class 'numpy.float32'>)\n  Parameter conv53_bias (shape=(128,), dtype=<class 'numpy.float32'>)\n  Parameter batchnorm53_gamma (shape=(-1,), dtype=<class 'numpy.float32'>)\n  Parameter batchnorm53_beta (shape=(-1,), dtype=<class 'numpy.float32'>)\n  Parameter batchnorm53_running_mean (shape=(-1,), dtype=<class 'numpy.float32'>)\n  Parameter batchnorm53_running_var (shape=(-1,), dtype=<class 'numpy.float32'>)\n  Parameter dense15_weight (shape=(128, -1), dtype=<class 'numpy.float32'>)\n  Parameter dense15_bias (shape=(128,), dtype=<class 'numpy.float32'>)\n  Parameter dense16_weight (shape=(1, -1), dtype=<class 'numpy.float32'>)\n  Parameter dense16_bias (shape=(1,), dtype=<class 'numpy.float32'>)\n)"
     },
     "execution_count": 44,
     "metadata": {},
     "output_type": "execute_result"
    }
   ],
   "source": [
    "new_model.collect_params()"
   ],
   "metadata": {
    "collapsed": false,
    "pycharm": {
     "name": "#%%\n"
    }
   }
  },
  {
   "cell_type": "code",
   "execution_count": 185,
   "outputs": [],
   "source": [
    "new_model.initialize(force_reinit=True)"
   ],
   "metadata": {
    "collapsed": false,
    "pycharm": {
     "name": "#%%\n"
    }
   }
  },
  {
   "cell_type": "code",
   "execution_count": 56,
   "outputs": [],
   "source": [
    "from mxnet import image\n",
    "x = image.imread(fileData[0])\n",
    "x = image.imresize(x,320,320)"
   ],
   "metadata": {
    "collapsed": false,
    "pycharm": {
     "name": "#%%\n"
    }
   }
  },
  {
   "cell_type": "code",
   "execution_count": 57,
   "outputs": [
    {
     "data": {
      "text/plain": "<Figure size 432x288 with 1 Axes>",
      "image/png": "[encoded data removed]"
     },
     "metadata": {
      "needs_background": "light"
     },
     "output_type": "display_data"
    }
   ],
   "source": [
    "import matplotlib.pyplot as plt\n",
    "plt.imshow(x.asnumpy())\n",
    "plt.show()"
   ],
   "metadata": {
    "collapsed": false,
    "pycharm": {
     "name": "#%%\n"
    }
   }
  },
  {
   "cell_type": "code",
   "execution_count": 61,
   "outputs": [],
   "source": [
    "def preprocess(img):\n",
    "    img = np.swapaxes(img, 0, 2)\n",
    "    img = np.swapaxes(img, 1, 2)\n",
    "    img = img[np.newaxis, :]\n",
    "    return img.astype(np.float32)\n",
    "xnew = preprocess(x)"
   ],
   "metadata": {
    "collapsed": false,
    "pycharm": {
     "name": "#%%\n"
    }
   }
  },
  {
   "cell_type": "code",
   "execution_count": 63,
   "outputs": [],
   "source": [
    "y = new_model.forward(xnew)"
   ],
   "metadata": {
    "collapsed": false,
    "pycharm": {
     "name": "#%%\n"
    }
   }
  },
  {
   "cell_type": "code",
   "execution_count": 166,
   "outputs": [],
   "source": [
    "y_true = np.array(1.).reshape(-1,1)"
   ],
   "metadata": {
    "collapsed": false,
    "pycharm": {
     "name": "#%%\n"
    }
   }
  },
  {
   "cell_type": "code",
   "execution_count": 186,
   "outputs": [],
   "source": [
    "params = new_model[-1].collect_params()"
   ],
   "metadata": {
    "collapsed": false,
    "pycharm": {
     "name": "#%%\n"
    }
   }
  },
  {
   "cell_type": "code",
   "execution_count": 187,
   "outputs": [],
   "source": [
    "dense_W = params.get(\"weight\").data()\n",
    "dense_B = params.get(\"bias\").data()"
   ],
   "metadata": {
    "collapsed": false,
    "pycharm": {
     "name": "#%%\n"
    }
   }
  },
  {
   "cell_type": "code",
   "execution_count": 88,
   "outputs": [],
   "source": [
    "dense_W.attach_grad()\n",
    "dense_B.attach_grad()"
   ],
   "metadata": {
    "collapsed": false,
    "pycharm": {
     "name": "#%%\n"
    }
   }
  },
  {
   "cell_type": "code",
   "execution_count": 109,
   "outputs": [],
   "source": [
    "BCE = loss.SigmoidBinaryCrossEntropyLoss()"
   ],
   "metadata": {
    "collapsed": false,
    "pycharm": {
     "name": "#%%\n"
    }
   }
  },
  {
   "cell_type": "code",
   "execution_count": 195,
   "outputs": [
    {
     "data": {
      "text/plain": "array([[-5.3594191e-02,  2.4885694e-02,  4.1046590e-02,  1.2773038e-02,\n         4.4739310e-02,  4.9214326e-03, -1.0362288e-02,  9.2152454e-04,\n        -3.7563562e-02, -2.4234492e-02, -2.5094792e-02, -2.0193813e-02,\n        -5.8633447e-02, -4.2688148e-04, -8.7563694e-04,  3.8776457e-02,\n        -3.7902709e-02,  5.4915860e-02, -3.0298915e-02,  1.6803533e-02,\n         2.4539167e-02,  1.0772064e-02,  2.3520324e-02,  5.2548371e-02,\n        -4.1785010e-05, -6.0221031e-03, -3.2059811e-02, -9.0072230e-03,\n         5.3284019e-02, -7.9773525e-03, -5.4764397e-02, -4.8249640e-02,\n        -2.9963300e-02,  5.4387428e-02, -1.5744325e-02,  6.6944189e-02,\n         3.8786203e-02, -5.9105542e-02, -2.9689701e-02,  3.5965621e-02,\n        -3.4808446e-02, -6.7469463e-02, -6.9879524e-02,  3.4000821e-02,\n        -3.8446486e-02,  4.1463710e-02,  1.3977950e-02, -3.3333816e-02,\n         5.5463389e-02, -1.1011329e-02,  3.7264854e-02, -4.0666319e-02,\n        -5.3454820e-02,  4.8515398e-02,  1.9987613e-02,  4.4281356e-02,\n        -5.1479158e-04, -4.8783697e-02, -1.3124559e-02,  5.8125298e-02,\n        -4.1267052e-02,  5.5169575e-02,  2.0691626e-02,  4.5649927e-02,\n        -6.7226596e-02,  3.3094667e-02, -6.4859807e-02, -5.1847667e-02,\n        -2.2093400e-02, -5.7533849e-02, -3.7122682e-02, -5.5971146e-02,\n        -6.0848098e-02, -1.9834906e-02, -5.8342878e-02,  1.8476380e-02,\n         4.8094817e-02, -3.3596933e-02,  3.8192615e-02, -9.2256779e-04,\n        -5.4452363e-02,  2.3953930e-02,  1.4511764e-02,  5.0873071e-02,\n        -1.7525114e-02,  5.3581066e-02,  6.0734898e-03,  4.6858266e-02,\n        -4.2767981e-03, -2.3431407e-02, -1.6154349e-02,  2.9768008e-03,\n        -5.4559931e-03, -5.5841628e-02, -5.7592638e-02, -2.6637455e-03,\n        -6.7787878e-02, -1.6441129e-02,  2.1603838e-02,  2.6819684e-02,\n        -3.4129992e-02, -5.4300398e-02, -5.7615906e-02, -2.5594262e-02,\n        -6.4998686e-02,  6.8932526e-02, -3.5020869e-02, -1.7931443e-02,\n        -6.6011384e-02,  1.0753196e-02,  6.4735971e-02, -6.7900881e-02,\n         5.9900995e-02, -3.5297260e-02, -4.3306507e-02, -5.7101186e-02,\n        -3.0545397e-02,  3.6632646e-02, -6.4537361e-02, -3.2570317e-02,\n         6.5411463e-02, -1.4869970e-02, -6.7425005e-02, -2.9687727e-02,\n        -4.5744304e-02,  3.8519263e-02, -4.9241103e-02,  1.0957710e-02]])"
     },
     "execution_count": 195,
     "metadata": {},
     "output_type": "execute_result"
    }
   ],
   "source": [
    "dense_W"
   ],
   "metadata": {
    "collapsed": false,
    "pycharm": {
     "name": "#%%\n"
    }
   }
  },
  {
   "cell_type": "code",
   "execution_count": 189,
   "outputs": [],
   "source": [
    "trainer=mx.gluon.Trainer(new_model.collect_params(),'adam', {'learning_rate': 0.001})"
   ],
   "metadata": {
    "collapsed": false,
    "pycharm": {
     "name": "#%%\n"
    }
   }
  },
  {
   "cell_type": "code",
   "execution_count": 193,
   "outputs": [
    {
     "name": "stdout",
     "output_type": "stream",
     "text": [
      "[[0.00720028]]; Loss: [0.6895536]\n"
     ]
    }
   ],
   "source": [
    "with autograd.record():\n",
    "    y_ =  new_model.forward(xnew)\n",
    "    lossValue = BCE(y_, y_true)\n",
    "print( str(y_) + \"; Loss: \" + str(lossValue))"
   ],
   "metadata": {
    "collapsed": false,
    "pycharm": {
     "name": "#%%\n"
    }
   }
  },
  {
   "cell_type": "code",
   "execution_count": 194,
   "outputs": [],
   "source": [
    "lossValue.backward()\n",
    "trainer.step(xnew.shape[0])"
   ],
   "metadata": {
    "collapsed": false,
    "pycharm": {
     "name": "#%%\n"
    }
   }
  },
  {
   "cell_type": "code",
   "execution_count": 101,
   "outputs": [
    {
     "data": {
      "text/plain": "array([[0.0000000e+00, 0.0000000e+00, 1.2440111e-05, 1.4292451e-05,\n        0.0000000e+00, 0.0000000e+00, 1.5807294e-05, 0.0000000e+00,\n        2.5595906e-05, 0.0000000e+00, 9.4625193e-06, 3.8364746e-05,\n        0.0000000e+00, 0.0000000e+00, 4.0965995e-05, 0.0000000e+00,\n        7.9775291e-06, 5.1399940e-05, 6.1903415e-06, 0.0000000e+00,\n        1.8286584e-05, 0.0000000e+00, 1.8294151e-05, 0.0000000e+00,\n        0.0000000e+00, 0.0000000e+00, 2.5887748e-05, 0.0000000e+00,\n        0.0000000e+00, 0.0000000e+00, 0.0000000e+00, 0.0000000e+00,\n        0.0000000e+00, 0.0000000e+00, 0.0000000e+00, 1.3382403e-05,\n        1.8189672e-05, 0.0000000e+00, 0.0000000e+00, 1.7643251e-05,\n        1.9167379e-05, 1.9677280e-05, 0.0000000e+00, 0.0000000e+00,\n        0.0000000e+00, 0.0000000e+00, 0.0000000e+00, 0.0000000e+00,\n        1.7517015e-05, 6.5818549e-06, 0.0000000e+00, 2.7552353e-05,\n        0.0000000e+00, 0.0000000e+00, 0.0000000e+00, 0.0000000e+00,\n        0.0000000e+00, 7.6379147e-06, 3.8345270e-06, 0.0000000e+00,\n        1.5404799e-05, 8.6498640e-06, 0.0000000e+00, 0.0000000e+00,\n        0.0000000e+00, 0.0000000e+00, 0.0000000e+00, 1.9307001e-05,\n        0.0000000e+00, 0.0000000e+00, 0.0000000e+00, 0.0000000e+00,\n        1.5333952e-05, 1.6952510e-05, 1.4862553e-05, 0.0000000e+00,\n        0.0000000e+00, 0.0000000e+00, 2.7036372e-06, 1.9497418e-05,\n        0.0000000e+00, 0.0000000e+00, 7.4870577e-06, 0.0000000e+00,\n        0.0000000e+00, 5.9521080e-06, 0.0000000e+00, 0.0000000e+00,\n        0.0000000e+00, 1.6012275e-05, 0.0000000e+00, 0.0000000e+00,\n        3.8661488e-05, 0.0000000e+00, 1.8606132e-05, 0.0000000e+00,\n        0.0000000e+00, 0.0000000e+00, 2.1721427e-05, 3.4911347e-05,\n        0.0000000e+00, 2.3355594e-06, 5.0451963e-06, 0.0000000e+00,\n        0.0000000e+00, 0.0000000e+00, 0.0000000e+00, 2.2657759e-06,\n        2.8701683e-05, 1.0157348e-05, 0.0000000e+00, 1.1392185e-05,\n        1.2355387e-05, 0.0000000e+00, 0.0000000e+00, 0.0000000e+00,\n        8.7373240e-07, 0.0000000e+00, 1.1809368e-05, 7.6214826e-07,\n        0.0000000e+00, 0.0000000e+00, 0.0000000e+00, 0.0000000e+00,\n        0.0000000e+00, 1.6820641e-05, 0.0000000e+00, 1.6711570e-05]])"
     },
     "execution_count": 101,
     "metadata": {},
     "output_type": "execute_result"
    }
   ],
   "source": [
    "dense_W.grad"
   ],
   "metadata": {
    "collapsed": false,
    "pycharm": {
     "name": "#%%\n"
    }
   }
  },
  {
   "cell_type": "code",
   "execution_count": 102,
   "outputs": [
    {
     "data": {
      "text/plain": "array([6.539645e-07])"
     },
     "execution_count": 102,
     "metadata": {},
     "output_type": "execute_result"
    }
   ],
   "source": [
    "dense_B.grad\n"
   ],
   "metadata": {
    "collapsed": false,
    "pycharm": {
     "name": "#%%\n"
    }
   }
  }
 ],
 "metadata": {
  "kernelspec": {
   "name": "pycharm-ee7edc48",
   "language": "python",
   "display_name": "PyCharm (BigData)"
  },
  "language_info": {
   "codemirror_mode": {
    "name": "ipython",
    "version": 2
   },
   "file_extension": ".py",
   "mimetype": "text/x-python",
   "name": "python",
   "nbconvert_exporter": "python",
   "pygments_lexer": "ipython2",
   "version": "2.7.6"
  }
 },
 "nbformat": 4,
 "nbformat_minor": 0
}