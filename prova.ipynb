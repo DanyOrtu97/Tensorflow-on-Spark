{
 "cells": [
  {
   "cell_type": "code",
   "execution_count": 1,
   "metadata": {
    "collapsed": true
   },
   "outputs": [],
   "source": [
    "\n",
    "import os\n",
    "import findspark\n",
    "import pyspark\n",
    "from tensorflow.keras.preprocessing.image import ImageDataGenerator\n",
    "import tensorflow as tf\n",
    "from tensorflow.keras.models import Sequential\n",
    "from tensorflow.keras.layers import Dense, Conv2D, MaxPool2D, Dropout, Flatten, BatchNormalization\n",
    "from tensorflow.keras.preprocessing.image import ImageDataGenerator\n",
    "from pyspark.sql import SparkSession\n",
    "os.environ[\"JAVA_HOME\"] = \"/usr/lib/jvm/java-8-openjdk-amd64\" # Must corrispond to the current jdk used by colab\n",
    "os.environ[\"SPARK_HOME\"] = \"/opt/spark/\" # Must corrispond with the downloaded spark (1st line)\n",
    "spark = SparkSession.builder.master(\"spark://192.168.1.38:7077\").appName(\"testTrain\").enableHiveSupport().getOrCreate()\n",
    "spark.conf.set(\"spark.driver.resource.gpu.discoveryScript\", \"/opt/spark/examples/src/main/scripts/getGpusResources.sh\")\n",
    "spark.conf.set(\"spark.executor.resource.gpu.discoveryScript\", \"/opt/spark/examples/src/main/scripts/getGpusResources.sh\")\n",
    "spark.conf.set(\"spark.driver.resource.gpu.amount\", \"1\")\n",
    "spark.conf.set(\"spark.executor.resource.gpu.amount\", \"1\")\n",
    "spark.conf.set(\"spark.task.resource.gpu.amount\", \"1\")\n",
    "sc = spark.sparkContext\n",
    "sc.setLogLevel(\"Error\")\n",
    "\n",
    "physical_devices = tf.config.experimental.list_physical_devices('GPU')\n",
    "\n",
    "tf.compat.v1.reset_default_graph()\n",
    "config = tf.compat.v1.ConfigProto(\n",
    "    device_count={'GPU': 0}\n",
    ")\n",
    "\n",
    "config.gpu_options.per_process_gpu_memory_fraction = 0.6\n",
    "session = tf.compat.v1.Session(config=config)"
   ]
  },
  {
   "cell_type": "code",
   "execution_count": 2,
   "outputs": [
    {
     "name": "stdout",
     "output_type": "stream",
     "text": [
      "Train set:\n",
      "========================================\n",
      "PNEUMONIA=3875\n",
      "NORMAL=1341\n",
      "Test set:\n",
      "========================================\n",
      "PNEUMONIA=390\n",
      "NORMAL=234\n",
      "Validation set:\n",
      "========================================\n",
      "PNEUMONIA=8\n",
      "NORMAL=8\n"
     ]
    }
   ],
   "source": [
    "\n",
    "from tensorflow.keras.preprocessing.image import ImageDataGenerator\n",
    "\n",
    "\n",
    "train_dir = \"../chest_xray/train\"\n",
    "test_dir = \"../chest_xray/test\"\n",
    "val_dir = \"../chest_xray/val\"\n",
    "\n",
    "print(\"Train set:\\n========================================\")\n",
    "num_pneumonia = len(os.listdir(os.path.join(train_dir, 'PNEUMONIA')))\n",
    "num_normal = len(os.listdir(os.path.join(train_dir, 'NORMAL')))\n",
    "print(f\"PNEUMONIA={num_pneumonia}\")\n",
    "print(f\"NORMAL={num_normal}\")\n",
    "\n",
    "print(\"Test set:\\n========================================\")\n",
    "print(f\"PNEUMONIA={len(os.listdir(os.path.join(test_dir, 'PNEUMONIA')))}\")\n",
    "print(f\"NORMAL={len(os.listdir(os.path.join(test_dir, 'NORMAL')))}\")\n",
    "\n",
    "print(\"Validation set:\\n========================================\")\n",
    "print(f\"PNEUMONIA={len(os.listdir(os.path.join(val_dir, 'PNEUMONIA')))}\")\n",
    "print(f\"NORMAL={len(os.listdir(os.path.join(val_dir, 'NORMAL')))}\")\n",
    "\n",
    "\n",
    "weight_for_0 = num_pneumonia / (num_normal + num_pneumonia)\n",
    "weight_for_1 = num_normal / (num_normal + num_pneumonia)\n",
    "class_weigths = {0: weight_for_0, 1: weight_for_1}"
   ],
   "metadata": {
    "collapsed": false,
    "pycharm": {
     "name": "#%%\n"
    }
   }
  },
  {
   "cell_type": "code",
   "execution_count": 3,
   "outputs": [
    {
     "name": "stdout",
     "output_type": "stream",
     "text": [
      "Found 5216 images belonging to 2 classes.\n"
     ]
    }
   ],
   "source": [
    "image_generator = ImageDataGenerator(\n",
    "        rotation_range=20,\n",
    "        width_shift_range=0.1,\n",
    "        shear_range=0.1,\n",
    "        zoom_range=0.1,\n",
    "        samplewise_center=True,\n",
    "        samplewise_std_normalization=True\n",
    "    )\n",
    "\n",
    "\n",
    "\n",
    "train = image_generator.flow_from_directory(train_dir,\n",
    "                                                batch_size=16,\n",
    "                                                shuffle=True,\n",
    "                                                class_mode='binary',\n",
    "                                                target_size=(320, 320))"
   ],
   "metadata": {
    "collapsed": false,
    "pycharm": {
     "name": "#%%\n"
    }
   }
  },
  {
   "cell_type": "code",
   "execution_count": 4,
   "outputs": [],
   "source": [
    "def create_model():\n",
    "        model = Sequential()\n",
    "\n",
    "        model.add(Conv2D(filters=32, kernel_size=(3, 3), input_shape=(320, 320, 3), activation='relu'))\n",
    "        model.add(BatchNormalization())\n",
    "        model.add(Conv2D(filters=32, kernel_size=(3, 3), input_shape=(320, 320, 3), activation='relu'))\n",
    "        model.add(BatchNormalization())\n",
    "        model.add(MaxPool2D(pool_size=(2, 2)))\n",
    "\n",
    "        model.add(Conv2D(filters=64, kernel_size=(3, 3), activation='relu'))\n",
    "        model.add(BatchNormalization())\n",
    "        model.add(Conv2D(filters=64, kernel_size=(3, 3), activation='relu'))\n",
    "        model.add(BatchNormalization())\n",
    "        model.add(MaxPool2D(pool_size=(2, 2)))\n",
    "\n",
    "        model.add(Conv2D(filters=128, kernel_size=(3, 3), activation='relu'))\n",
    "        model.add(BatchNormalization())\n",
    "        model.add(Conv2D(filters=128, kernel_size=(3, 3), activation='relu'))\n",
    "        model.add(BatchNormalization())\n",
    "        model.add(MaxPool2D(pool_size=(2, 2)))\n",
    "\n",
    "        model.add(Flatten())\n",
    "        model.add(Dense(128, activation='relu'))\n",
    "        model.add(Dropout(0.2))\n",
    "\n",
    "        model.add(Dense(1, activation='sigmoid'))\n",
    "\n",
    "        model.compile(loss='categorical_crossentropy', optimizer='adam', metrics=['accuracy'])\n",
    "        return model"
   ],
   "metadata": {
    "collapsed": false,
    "pycharm": {
     "name": "#%%\n"
    }
   }
  },
  {
   "cell_type": "code",
   "execution_count": 5,
   "outputs": [],
   "source": [
    "model = create_model()"
   ],
   "metadata": {
    "collapsed": false,
    "pycharm": {
     "name": "#%%\n"
    }
   }
  },
  {
   "cell_type": "code",
   "execution_count": 23,
   "outputs": [],
   "source": [
    "predFun = model.make_predict_function()"
   ],
   "metadata": {
    "collapsed": false,
    "pycharm": {
     "name": "#%%\n"
    }
   }
  },
  {
   "cell_type": "code",
   "execution_count": 9,
   "outputs": [],
   "source": [],
   "metadata": {
    "collapsed": false,
    "pycharm": {
     "name": "#%%\n"
    }
   }
  },
  {
   "cell_type": "code",
   "execution_count": 14,
   "outputs": [],
   "source": [
    "import numpy as np\n",
    "c = train[0][0]"
   ],
   "metadata": {
    "collapsed": false,
    "pycharm": {
     "name": "#%%\n"
    }
   }
  },
  {
   "cell_type": "code",
   "execution_count": 15,
   "outputs": [],
   "source": [
    "par = sc.parallelize(c)"
   ],
   "metadata": {
    "collapsed": false,
    "pycharm": {
     "name": "#%%\n"
    }
   }
  },
  {
   "cell_type": "code",
   "execution_count": 20,
   "outputs": [],
   "source": [
    "result = par.values().map(lambda x : model.predict(x))"
   ],
   "metadata": {
    "collapsed": false,
    "pycharm": {
     "name": "#%%\n"
    }
   }
  },
  {
   "cell_type": "code",
   "execution_count": 19,
   "outputs": [],
   "source": [
    "val = par."
   ],
   "metadata": {
    "collapsed": false,
    "pycharm": {
     "name": "#%%\n"
    }
   }
  }
 ],
 "metadata": {
  "kernelspec": {
   "name": "pycharm-ee7edc48",
   "language": "python",
   "display_name": "PyCharm (BigData)"
  },
  "language_info": {
   "codemirror_mode": {
    "name": "ipython",
    "version": 2
   },
   "file_extension": ".py",
   "mimetype": "text/x-python",
   "name": "python",
   "nbconvert_exporter": "python",
   "pygments_lexer": "ipython2",
   "version": "2.7.6"
  }
 },
 "nbformat": 4,
 "nbformat_minor": 0
}